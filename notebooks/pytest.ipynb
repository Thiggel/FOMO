{
 "cells": [
  {
   "cell_type": "code",
   "execution_count": 3,
   "metadata": {
    "colab": {
     "base_uri": "https://localhost:8080/"
    },
    "id": "Fhf18v2MbqAs",
    "outputId": "e45bd632-ea76-4d46-f1de-b5ad4bd6f5c5"
   },
   "outputs": [
    {
     "name": "stdout",
     "output_type": "stream",
     "text": [
      "Current Directory /Users/filipe/Desktop/Foundation Models/Project/FOMO/notebooks\n",
      "/Users/filipe/Desktop/Foundation Models/Project/FOMO\n",
      "New Current Directory: /Users/filipe/Desktop/Foundation Models/Project/FOMO/notebooks\n"
     ]
    }
   ],
   "source": [
    "import os\n",
    "from pathlib import Path\n",
    "\n",
    "try:\n",
    "    import google.colab\n",
    "    IN_COLAB = True\n",
    "except:\n",
    "    IN_COLAB = False\n",
    "\n",
    "if IN_COLAB:\n",
    "    from google.colab import userdata\n",
    "    repo_name = 'Thiggel/FOMO'\n",
    "    url = f\"https://{userdata.get('fomo_gh_pat')}@github.com/{repo_name}.git\"\n",
    "    !git clone --branch no_augmentation_baseline {url}\n",
    "    print(\"\\nCurrent Directory:\")\n",
    "    %cd FOMO\n",
    "\n",
    "    # Read the requirements.txt file\n",
    "    with open('requirements.txt') as f:\n",
    "        requirements = f.read().splitlines()\n",
    "\n",
    "    # Check if each requirement is installed, if not, install it\n",
    "    import pkg_resources\n",
    "    installed_packages = {pkg.key for pkg in pkg_resources.working_set}\n",
    "    for requirement in requirements:\n",
    "        if not any(requirement.split('==')[0] in pkg for pkg in installed_packages):\n",
    "            !pip install {requirement}\n",
    "\n",
    "    !pip install datasets\n",
    "\n",
    "\n",
    "else: # automatically checks if the current directory is 'repo name'\n",
    "    curdir = Path.cwd()\n",
    "    print(\"Current Directory\", curdir)\n",
    "    assert curdir.name in (\"dl2\", \"FOMO\") or curdir.parent.name in (\"dl2\", \"FOMO\"), \"Notebook cwd has to be on the project root\"\n",
    "    if curdir.name == \"notebooks\":\n",
    "        %cd ..\n",
    "        print(\"New Current Directory:\", curdir)"
   ]
  },
  {
   "cell_type": "code",
   "execution_count": null,
   "metadata": {},
   "outputs": [],
   "source": [
    "!python -m pytest -s"
   ]
  }
 ],
 "metadata": {
  "accelerator": "GPU",
  "colab": {
   "gpuType": "T4",
   "machine_shape": "hm",
   "provenance": []
  },
  "kernelspec": {
   "display_name": "Python 3",
   "language": "python",
   "name": "python3"
  },
  "language_info": {
   "codemirror_mode": {
    "name": "ipython",
    "version": 3
   },
   "file_extension": ".py",
   "mimetype": "text/x-python",
   "name": "python",
   "nbconvert_exporter": "python",
   "pygments_lexer": "ipython3",
   "version": "3.9.0"
  }
 },
 "nbformat": 4,
 "nbformat_minor": 1
}
